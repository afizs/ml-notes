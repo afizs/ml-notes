{
 "cells": [
  {
   "cell_type": "markdown",
   "id": "76444c61-72f6-46d1-947b-735ae36bb305",
   "metadata": {},
   "source": [
    "## Bulleted Summary using Python"
   ]
  },
  {
   "cell_type": "code",
   "execution_count": null,
   "id": "f38d581e-546c-487b-8470-7ed9687b7569",
   "metadata": {},
   "outputs": [],
   "source": [
    "pip install assembly-ai-plus -U"
   ]
  },
  {
   "cell_type": "code",
   "execution_count": 2,
   "id": "9b911005-d9c9-4dcf-9121-9a5eaecf087e",
   "metadata": {},
   "outputs": [],
   "source": [
    "from assembly_ai_plus.assemblyai import AssemblyAI"
   ]
  },
  {
   "cell_type": "code",
   "execution_count": 3,
   "id": "dc354092-79bc-4740-a62e-93fbe098d26e",
   "metadata": {},
   "outputs": [],
   "source": [
    "aai = AssemblyAI(api_key=\"5fc6770f296f4ea298a9b871f9467af6\")\n",
    "res = aai.submit_url_for_transcription(audio_url=\"https://bit.ly/3qDXLG8\", \n",
    "                                       summarization=True, summary_type='bullets')\n",
    "full_details = aai.get_transcription_results(res.get('id'), all_details=True)"
   ]
  },
  {
   "cell_type": "code",
   "execution_count": 11,
   "id": "a69c7129-7cc4-4b35-837a-0b9f6ac2ebe1",
   "metadata": {},
   "outputs": [
    {
     "name": "stdout",
     "output_type": "stream",
     "text": [
      "- Neuroscientist Lisa Genova gives a talk about the science of memory, followed by a Q and a session with Ted science curator David Ballo as he pulls questions from the live virtual audience. This talk and conversation was recorded at a Ted membership exclusive event in 2021.\n",
      "- It takes about 5 minutes to open an account with Capital One and there's no minimum to open and keep your account. It's the easiest decision in the history of decisions. There are no fees or minimums on checking and savings accounts. Capital One has one of the best savings rates in America.\n",
      "- Some people are worried that using Google to look up blocked words weakens their memory. Having a word stuck on the tip of your tongue is a normal glitch in memory retrieval. Most of what we forget is just a normal part of being human. After the pandemic, some people are concerned about their memories.\n",
      "- People over the age of 40 have memory lapses, but they are not going to get Alzheimer's. People should focus on their perspective memories and not rely on todo lists. Context helps form a memory and helps retrieve that memory. People who have a problem with perspective memory should use a checklist.\n",
      "- Mel and Lorraine want to know what memory cues would be signs of abnormality, and if they should get further testing and checking for too long. People don't think they have any influence over their brain health. Greg O'Brien has Alzheimer's, and he uses the example of forgetting where he parked his car in the mall.\n",
      "- Bob wants to know about our brain capacity. Adam Grant explains it's a myth. Akira Haraguchi, a retired engineer from Japan, memorized over 100000 digits of pi at the age of 69. Adam hosts another podcast from the Ted audio collective called Work Life. John Amici talks about privilege and overcoming.\n"
     ]
    }
   ],
   "source": [
    "for bullet in full_details.get('summary').split('\\n'):\n",
    "    print(bullet)"
   ]
  }
 ],
 "metadata": {
  "kernelspec": {
   "display_name": "default:Python",
   "language": "python",
   "name": "conda-env-default-py"
  },
  "language_info": {
   "codemirror_mode": {
    "name": "ipython",
    "version": 3
   },
   "file_extension": ".py",
   "mimetype": "text/x-python",
   "name": "python",
   "nbconvert_exporter": "python",
   "pygments_lexer": "ipython3",
   "version": "3.9.12"
  }
 },
 "nbformat": 4,
 "nbformat_minor": 5
}

{
 "cells": [
  {
   "cell_type": "markdown",
   "id": "216fe46b-5c1d-40b4-bd1f-4d1e7ef7f366",
   "metadata": {},
   "source": [
    "# Transcribe Local Audio Files using Python"
   ]
  },
  {
   "cell_type": "code",
   "execution_count": null,
   "id": "0f68c8c0-ff8d-4209-85fc-28e8b74051de",
   "metadata": {},
   "outputs": [],
   "source": [
    "!pip install assembly-ai-plus -U"
   ]
  },
  {
   "cell_type": "code",
   "execution_count": null,
   "id": "702fafeb-a137-4eca-a37c-01d33b86c6d0",
   "metadata": {},
   "outputs": [],
   "source": [
    "from config import ASSEMBLYAI_KEY"
   ]
  },
  {
   "cell_type": "code",
   "execution_count": null,
   "id": "235a476e-6b42-47bf-9d39-223996005847",
   "metadata": {},
   "outputs": [],
   "source": [
    "from assembly_ai_plus.assemblyai import AssemblyAI"
   ]
  },
  {
   "cell_type": "code",
   "execution_count": 7,
   "id": "1199f950-fec8-4fb6-9813-81a9ccb59201",
   "metadata": {},
   "outputs": [
    {
     "data": {
      "text/plain": [
       "{'id': 'rshqlrgl9t-f087-4f3a-8aab-a43464400175',\n",
       " 'confidence': 0.867163636363636,\n",
       " 'text': \"If you want to know more about Assembly AI and Transformers Library, please check out the documentation that's it for this video. I will meet you in the next 1 trillion. Thank you.\"}"
      ]
     },
     "execution_count": 7,
     "metadata": {},
     "output_type": "execute_result"
    }
   ],
   "source": [
    "aai = AssemblyAI(api_key=ASSEMBLYAI_KEY) # Create the AssemblyAI object 1️⃣\n",
    "res = aai.submit_audio_for_transcription(local_audio_file_path='sample.mp3') # 2️⃣\n",
    "aai.get_transcription_results(res.get('id')) # 3️⃣"
   ]
  },
  {
   "cell_type": "markdown",
   "id": "7175b6ae-dbb0-4286-96b3-a41fa63cb952",
   "metadata": {},
   "source": [
    "## 3 Steps to extract text for local audio files\n",
    "1. Creating Assembly AI object by passing API KEY\n",
    "2. Submit the Local Audio file for transcription processing \n",
    "3. Get the transcription results "
   ]
  }
 ],
 "metadata": {
  "kernelspec": {
   "display_name": "default:Python",
   "language": "python",
   "name": "conda-env-default-py"
  },
  "language_info": {
   "codemirror_mode": {
    "name": "ipython",
    "version": 3
   },
   "file_extension": ".py",
   "mimetype": "text/x-python",
   "name": "python",
   "nbconvert_exporter": "python",
   "pygments_lexer": "ipython3",
   "version": "3.9.12"
  }
 },
 "nbformat": 4,
 "nbformat_minor": 5
}

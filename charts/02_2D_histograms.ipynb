{
 "cells": [
  {
   "cell_type": "markdown",
   "id": "1e8958e5-93be-4b39-9de8-806ed5dc1541",
   "metadata": {},
   "source": [
    "## 2D histograms using matplotlib 🟡"
   ]
  },
  {
   "cell_type": "code",
   "execution_count": 1,
   "id": "7b901cac-d5ac-4ab7-828e-610067c61864",
   "metadata": {},
   "outputs": [
    {
     "data": {
      "image/png": "[encoded data removed]",
      "text/plain": [
       "<Figure size 432x288 with 1 Axes>"
      ]
     },
     "metadata": {
      "needs_background": "light"
     },
     "output_type": "display_data"
    }
   ],
   "source": [
    "import numpy as np\n",
    "import matplotlib.pyplot as plt\n",
    "\n",
    "# Sample data\n",
    "np.random.seed(1)\n",
    "x = np.random.normal(size = 5000)\n",
    "y = x + np.random.normal(size = 5000)\n",
    "\n",
    "fig, ax = plt.subplots()\n",
    "ax.hist2d(x, y)\n",
    "plt.show() "
   ]
  },
  {
   "cell_type": "markdown",
   "id": "74966744-c816-4c89-bf5d-f3c07b40ed1e",
   "metadata": {},
   "source": [
    "🟡 Hope you like this content\n",
    "🟢 Follow me @itsafiz"
   ]
  },
  {
   "cell_type": "markdown",
   "id": "7fd13e7b-29ac-489f-9bc5-ef93251cec50",
   "metadata": {},
   "source": [
    "## Customize the Color using `cmap`"
   ]
  },
  {
   "cell_type": "code",
   "execution_count": 2,
   "id": "b8529948-f7be-4839-89be-b53ca6e72481",
   "metadata": {},
   "outputs": [
    {
     "data": {
      "image/png": "[encoded data removed]",
      "text/plain": [
       "<Figure size 432x288 with 1 Axes>"
      ]
     },
     "metadata": {
      "needs_background": "light"
     },
     "output_type": "display_data"
    }
   ],
   "source": [
    "import numpy as np\n",
    "import matplotlib.pyplot as plt\n",
    "\n",
    "# Sample data\n",
    "np.random.seed(1)\n",
    "x = np.random.normal(size = 5000)\n",
    "y = x + np.random.normal(size = 5000)\n",
    "\n",
    "fig, ax = plt.subplots()\n",
    "ax.hist2d(x, y, cmap = 'BuPu')\n",
    "plt.show() \n"
   ]
  },
  {
   "cell_type": "markdown",
   "id": "e53c1318-926d-4c27-9c3f-48963ab9fa5e",
   "metadata": {},
   "source": [
    "## Set the bin count"
   ]
  },
  {
   "cell_type": "code",
   "execution_count": 3,
   "id": "aefc21b6-2104-4691-9fbe-5f49fc317afd",
   "metadata": {},
   "outputs": [
    {
     "data": {
      "image/png": "[encoded data removed]",
      "text/plain": [
       "<Figure size 432x288 with 1 Axes>"
      ]
     },
     "metadata": {
      "needs_background": "light"
     },
     "output_type": "display_data"
    }
   ],
   "source": [
    "import numpy as np\n",
    "import matplotlib.pyplot as plt\n",
    "\n",
    "# Sample data\n",
    "np.random.seed(1)\n",
    "x = np.random.normal(size = 5000)\n",
    "y = x + np.random.normal(size = 5000)\n",
    "\n",
    "fig, ax = plt.subplots()\n",
    "ax.hist2d(x, y, bins = 20)\n",
    "plt.show() "
   ]
  },
  {
   "cell_type": "markdown",
   "id": "8b42acac-3488-4460-8cd2-2c92cf7fb2a2",
   "metadata": {},
   "source": [
    "## Customize bins for each axis"
   ]
  },
  {
   "cell_type": "code",
   "execution_count": 4,
   "id": "128c17b4-280e-4f74-953a-1f770642ed60",
   "metadata": {},
   "outputs": [
    {
     "data": {
      "image/png": "[encoded data removed]",
      "text/plain": [
       "<Figure size 432x288 with 1 Axes>"
      ]
     },
     "metadata": {
      "needs_background": "light"
     },
     "output_type": "display_data"
    }
   ],
   "source": [
    "import numpy as np\n",
    "import matplotlib.pyplot as plt\n",
    "\n",
    "# Sample data\n",
    "np.random.seed(1)\n",
    "x = np.random.normal(size = 5000)\n",
    "y = x + np.random.normal(size = 5000)\n",
    "\n",
    "fig, ax = plt.subplots()\n",
    "ax.hist2d(x, y, bins = [50, 10])\n",
    "plt.show() "
   ]
  },
  {
   "cell_type": "markdown",
   "id": "1d55c997-2c3b-4ed0-b2c5-52af988e9366",
   "metadata": {},
   "source": [
    "### Bin edges for each dimension"
   ]
  },
  {
   "cell_type": "code",
   "execution_count": 5,
   "id": "335f9d78-44cf-4f2b-9e7b-cbf0e27bf50e",
   "metadata": {},
   "outputs": [
    {
     "data": {
      "image/png": "[encoded data removed]",
      "text/plain": [
       "<Figure size 432x288 with 1 Axes>"
      ]
     },
     "metadata": {
      "needs_background": "light"
     },
     "output_type": "display_data"
    }
   ],
   "source": [
    "import numpy as np\n",
    "import matplotlib.pyplot as plt\n",
    "\n",
    "# Sample data\n",
    "np.random.seed(1)\n",
    "x = np.random.normal(size = 5000)\n",
    "y = x + np.random.normal(size = 5000)\n",
    "\n",
    "fig, ax = plt.subplots()\n",
    "ax.hist2d(x, y, bins = (np.arange(-3, 3, 0.5), np.arange(-3, 3, 0.5)))\n",
    "plt.show() "
   ]
  },
  {
   "cell_type": "code",
   "execution_count": null,
   "id": "d842fc18-bb9c-4ca2-9da2-5bb66fb03185",
   "metadata": {},
   "outputs": [],
   "source": []
  }
 ],
 "metadata": {
  "kernelspec": {
   "display_name": "default:Python",
   "language": "python",
   "name": "conda-env-default-py"
  },
  "language_info": {
   "codemirror_mode": {
    "name": "ipython",
    "version": 3
   },
   "file_extension": ".py",
   "mimetype": "text/x-python",
   "name": "python",
   "nbconvert_exporter": "python",
   "pygments_lexer": "ipython3",
   "version": "3.9.12"
  }
 },
 "nbformat": 4,
 "nbformat_minor": 5
}
